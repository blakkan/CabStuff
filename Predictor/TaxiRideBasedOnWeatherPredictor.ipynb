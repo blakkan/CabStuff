{
 "cells": [
  {
   "cell_type": "code",
   "execution_count": 93,
   "metadata": {
    "collapsed": true
   },
   "outputs": [],
   "source": [
    "from datetime import datetime\n",
    "import numpy as np\n",
    "import psycopg2\n",
    "import sys\n",
    "\n",
    "from datetime import datetime\n",
    "from sklearn.externals import joblib\n",
    "from sklearn.feature_extraction import DictVectorizer\n",
    "from sklearn import linear_model"
   ]
  },
  {
   "cell_type": "code",
   "execution_count": 94,
   "metadata": {
    "collapsed": true
   },
   "outputs": [],
   "source": [
    "#Feature Extraction\n",
    "def get_feature_dict(x):\n",
    "    feature_dict = {}\n",
    "    # Get pickup date\n",
    "    pickup_date = datetime.strptime(\"%s-%s-%s\" % (x[feature_idx[\"pickup_year\"]],\\\n",
    "                                     x[feature_idx[\"pickup_month\"]],\\\n",
    "                                     x[feature_idx[\"pickup_day\"]]), '%Y-%m-%d')\n",
    "    \n",
    "    feature_dict[\"zipcode\"] = x[feature_idx[\"pickup_zipcode\"]]\n",
    "    feature_dict[\"month\"] = x[feature_idx[\"pickup_month\"]].zfill(2)\n",
    "    feature_dict[\"day\"] = x[feature_idx[\"pickup_day\"]].zfill(2)\n",
    "    feature_dict[\"weekday\"] = '%02d' % pickup_date.weekday()\n",
    "    \n",
    "    #mean temp\n",
    "    if float(x[feature_idx[\"mean_temp\"]]) < 55.:\n",
    "        feature_dict[\"temp\"] = \"Cold\"\n",
    "    elif float(x[feature_idx[\"mean_temp\"]]) > 75.:\n",
    "        feature_dict[\"temp\"] = \"Hot\"\n",
    "    else:\n",
    "        feature_dict[\"temp\"] = \"Normal\"\n",
    "        \n",
    "    #mean wind speed\n",
    "    feature_dict[\"wind_speed\"] = \"%0d\" % (float(x[feature_idx[\"mean_wind_speed\"]] or 12.))\n",
    "        \n",
    "    #mean wind speed\n",
    "    feature_dict[\"precip\"] = \"%00d\" % (float(x[feature_idx[\"precipitation\"]] or 10.))\n",
    "    \n",
    "    #zipcode-weekday\n",
    "    feature_dict[\"zipcode_weekday\"] = \"%s_%s\" % (feature_dict[\"zipcode\"], feature_dict[\"weekday\"])\n",
    "    \n",
    "    #zipcode-weekday-precip\n",
    "    feature_dict[\"zipcode_weekday_precip\"] = \"%s_%s_%s\" % (feature_dict[\"zipcode\"], feature_dict[\"weekday\"], feature_dict[\"precip\"])\n",
    "    \n",
    "    #zipcode-weekday-temp\n",
    "    feature_dict[\"zipcode_weekday_temp\"] = \"%s_%s_%s\" % (feature_dict[\"zipcode\"], feature_dict[\"weekday\"], feature_dict[\"temp\"])\n",
    "    \n",
    "    #zipcode-weekday-wind\n",
    "    feature_dict[\"zipcode_weekday_wind\"] = \"%s_%s_%s\" % (feature_dict[\"zipcode\"], feature_dict[\"weekday\"], feature_dict[\"wind_speed\"])\n",
    "    \n",
    "    #zipcode-weekday-wind-precip\n",
    "    feature_dict[\"zipcode_weekday_temp_precip\"] = \"%s_%s_%s_%s\" % (feature_dict[\"zipcode\"], feature_dict[\"weekday\"], feature_dict[\"temp\"], feature_dict[\"precip\"])\n",
    "    \n",
    "    #zipcode-weekday-wind-precip\n",
    "    feature_dict[\"zipcode_weekday_temp_precip_wind\"] = \"%s_%s_%s_%s_%s\" % (feature_dict[\"zipcode\"], feature_dict[\"weekday\"], feature_dict[\"temp\"], feature_dict[\"precip\"], feature_dict[\"wind_speed\"])\n",
    "    \n",
    "    return feature_dict\n"
   ]
  },
  {
   "cell_type": "code",
   "execution_count": 95,
   "metadata": {
    "collapsed": true
   },
   "outputs": [],
   "source": [
    "feature_idx = {\"pickup_zipcode\":0, \"pickup_year\":1, \"pickup_month\":2, \"pickup_day\":3, \"mean_temp\":4, \\\n",
    "             \"mean_wind_speed\":5, \"precipitation\":6 }"
   ]
  },
  {
   "cell_type": "code",
   "execution_count": 96,
   "metadata": {
    "collapsed": false
   },
   "outputs": [
    {
     "name": "stdout",
     "output_type": "stream",
     "text": [
      "connected\n"
     ]
    }
   ],
   "source": [
    "def open_connection():    \n",
    "    # Open connection\n",
    "    try:\n",
    "        conn = psycopg2.connect(database='postgres', user='muser', password='muser', host='ec2-52-207-211-243.compute-1.amazonaws.com', port='5432')\n",
    "        conn.set_isolation_level(3)  #want to control our own committing\n",
    "        print \"connected\"\n",
    "        return conn\n",
    "    except Exception, e:\n",
    "        print \"didn't connect to database\", e\n",
    "        exit()\n",
    "\n",
    "conn = open_connection()        "
   ]
  },
  {
   "cell_type": "code",
   "execution_count": 97,
   "metadata": {
    "collapsed": false
   },
   "outputs": [],
   "source": [
    "cur = conn.cursor()\n",
    "cur.execute(\"\"\"SELECT \n",
    "zipcode, \n",
    "date_part('year', start::timestamp)::text as pickup_year, \n",
    "date_part('month', start::timestamp)::text as pickup_month, \n",
    "date_part('day', start::timestamp)::text as pickup_day, \n",
    "(min + max) / 2 as mean_temp, \n",
    "12 as mean_wind_speed, \n",
    "case \n",
    "    when prob_precip < 50 then 0 \n",
    "    else prob_precip*5/50 \n",
    "end as precipitation, \n",
    "neighborhood, \n",
    "borough\n",
    "from zipcode_neighborhood_borough cross join weather_prediction; \"\"\")\n",
    "zip_weather_forecast = cur.fetchall()"
   ]
  },
  {
   "cell_type": "code",
   "execution_count": 98,
   "metadata": {
    "collapsed": false
   },
   "outputs": [
    {
     "name": "stdout",
     "output_type": "stream",
     "text": [
      "<type 'numpy.ndarray'>\n",
      "(1068, 9)\n"
     ]
    }
   ],
   "source": [
    "# Close connection\n",
    "conn.close()\n",
    "zip_weather_forecast = np.asarray(zip_weather_forecast)\n",
    "print type(zip_weather_forecast)\n",
    "print zip_weather_forecast.shape"
   ]
  },
  {
   "cell_type": "code",
   "execution_count": 99,
   "metadata": {
    "collapsed": false
   },
   "outputs": [
    {
     "name": "stdout",
     "output_type": "stream",
     "text": [
      "[['10453' '2016' '12' '5' '43' '12' '8' 'Central Bronx' 'Bronx']]\n"
     ]
    }
   ],
   "source": [
    "print zip_weather_forecast[:1]"
   ]
  },
  {
   "cell_type": "code",
   "execution_count": 100,
   "metadata": {
    "collapsed": true
   },
   "outputs": [],
   "source": [
    "input_dict = [get_feature_dict(x) for x in zip_weather_forecast]"
   ]
  },
  {
   "cell_type": "code",
   "execution_count": 101,
   "metadata": {
    "collapsed": true
   },
   "outputs": [],
   "source": [
    "y_forecaster = joblib.load('nyc_yellow_taxi_predictor.pkl') \n",
    "y_vectorizer = joblib.load('nyc_yellow_taxi_vectorizer.pkl')\n",
    "\n",
    "g_forecaster = joblib.load('nyc_green_taxi_predictor.pkl') \n",
    "g_vectorizer = joblib.load('nyc_green_taxi_vectorizer.pkl')"
   ]
  },
  {
   "cell_type": "code",
   "execution_count": 102,
   "metadata": {
    "collapsed": false
   },
   "outputs": [],
   "source": [
    "y_input_vector = y_vectorizer.transform(input_dict)\n",
    "g_input_vector = g_vectorizer.transform(input_dict)"
   ]
  },
  {
   "cell_type": "code",
   "execution_count": 103,
   "metadata": {
    "collapsed": true
   },
   "outputs": [],
   "source": [
    "y_predictions = y_forecaster.predict(y_input_vector)\n",
    "g_predictions = g_forecaster.predict(g_input_vector)"
   ]
  },
  {
   "cell_type": "code",
   "execution_count": 105,
   "metadata": {
    "collapsed": true
   },
   "outputs": [],
   "source": [
    "np.random.seed(0)\n",
    "y_predictions = [np.random.randint(1,50) if x < 0 else x for x in y_predictions]\n",
    "g_predictions = [np.random.randint(1,50) if x < 0 else x for x in g_predictions]"
   ]
  },
  {
   "cell_type": "code",
   "execution_count": 106,
   "metadata": {
    "collapsed": false
   },
   "outputs": [
    {
     "name": "stdout",
     "output_type": "stream",
     "text": [
      "[['10453' '2016' '12' '5' '43' '12' '8' 'Central Bronx' 'Bronx' '45.0']]\n",
      "[['10453' '2016' '12' '5' '43' '12' '8' 'Central Bronx' 'Bronx' '10.0']]\n"
     ]
    }
   ],
   "source": [
    "\n",
    "y_zip_predictions = np.column_stack((zip_weather_forecast, y_predictions))\n",
    "g_zip_predictions = np.column_stack((zip_weather_forecast, g_predictions))\n",
    "\n",
    "print y_zip_predictions[:1]\n",
    "print g_zip_predictions[:1]"
   ]
  },
  {
   "cell_type": "code",
   "execution_count": 174,
   "metadata": {
    "collapsed": true
   },
   "outputs": [],
   "source": [
    "y_to_save = y_zip_predictions[:,(8,7,0,1,2,3,9)]\n",
    "y_to_save = np.column_stack((y_to_save, ['Yellow'] * len(y_to_save)))\n",
    "y_to_save = np.column_stack((y_to_save, [str(datetime.now())] * len(y_to_save)))\n",
    "\n",
    "g_to_save = g_zip_predictions[:,(8,7,0,1,2,3,9)]\n",
    "g_to_save = np.column_stack((g_to_save, ['Yellow'] * len(g_to_save)))\n",
    "g_to_save = np.column_stack((g_to_save, [str(datetime.now())] * len(g_to_save)))"
   ]
  },
  {
   "cell_type": "code",
   "execution_count": 229,
   "metadata": {
    "collapsed": false
   },
   "outputs": [
    {
     "name": "stdout",
     "output_type": "stream",
     "text": [
      "connected\n",
      "Update completed\n"
     ]
    }
   ],
   "source": [
    "conn = open_connection()\n",
    "\n",
    "cur = conn.cursor()\n",
    "cur.execute(\"\"\"SELECT * FROM information_schema.tables WHERE table_name = 'zip_ride_prediction';\"\"\")\n",
    "\n",
    "res = cur.fetchone()\n",
    "\n",
    "if ((res is None) or (res[0] == 0)):\n",
    "\n",
    "    try:\n",
    "        cur.execute(\"\"\"CREATE TABLE zip_ride_prediction \n",
    "( \n",
    "borough VARCHAR,\n",
    "neighborhood VARCHAR, \n",
    "zipcode CHAR(5),\n",
    "pickup_year varchar,\n",
    "pickup_month varchar,\n",
    "pickup_day varchar,\n",
    "prediction INT,\n",
    "ride_source VARCHAR,\n",
    "timestamp_of_prediction VARCHAR);\"\"\")\n",
    "        print \"Created table.\"\n",
    "    except:\n",
    "        print \"Error when attempting to create zip_ride_prediction table\"\n",
    "\n",
    "# We're constantly trimming off the top of the table (but not until commit)\n",
    "cur.execute(\"\"\"DELETE FROM zip_ride_prediction;\"\"\")  #using delete rather than truncate, because not sure if truncate\n",
    "                                                    #plays nicely with transactions\n",
    "    \n",
    "# Save yellow cab predictions\n",
    "for r in y_to_save:\n",
    "    try:\n",
    "        cur.execute(\"\"\"INSERT INTO zip_ride_prediction \n",
    "(\n",
    "borough,\n",
    "neighborhood, \n",
    "zipcode,\n",
    "pickup_year,\n",
    "pickup_month,\n",
    "pickup_day,\n",
    "prediction,\n",
    "ride_source,\n",
    "timestamp_of_prediction) \n",
    "VALUES ( %s, %s, %s, %s, %s, %s, %s, %s, %s );\"\"\",\n",
    "        (r[0],r[1],r[2],r[3],r[4],r[5],int(float(r[6])),r[7],r[8]))\n",
    "\n",
    "    except Exception, e:\n",
    "        print \"something went awry with the yellow cab write\", e\n",
    "        print sys.exc_info()\n",
    "                    \n",
    "                    \n",
    "# Save green cab predictions\n",
    "for r in g_to_save:\n",
    "    try:\n",
    "        cur.execute(\"\"\"INSERT INTO zip_ride_prediction \n",
    "(\n",
    "borough,\n",
    "neighborhood, \n",
    "zipcode,\n",
    "pickup_year,\n",
    "pickup_month,\n",
    "pickup_day,\n",
    "prediction,\n",
    "ride_source,\n",
    "timestamp_of_prediction) \n",
    "VALUES ( %s, %s, %s, %s, %s, %s, %s, %s, %s );\"\"\",\n",
    "        (r[0],r[1],r[2],r[3],r[4],r[5],int(float(r[6])),r[7],r[8]))\n",
    "\n",
    "    except Exception, e:\n",
    "        print \"something went awry with the green cab write\", e\n",
    "        print sys.exc_info()\n",
    "                \n",
    "conn.commit()                \n",
    "conn.close()\n",
    "print 'Update completed'"
   ]
  },
  {
   "cell_type": "code",
   "execution_count": 228,
   "metadata": {
    "collapsed": false
   },
   "outputs": [],
   "source": [
    "conn.close()"
   ]
  }
 ],
 "metadata": {
  "kernelspec": {
   "display_name": "Python 2",
   "language": "python",
   "name": "python2"
  },
  "language_info": {
   "codemirror_mode": {
    "name": "ipython",
    "version": 2
   },
   "file_extension": ".py",
   "mimetype": "text/x-python",
   "name": "python",
   "nbconvert_exporter": "python",
   "pygments_lexer": "ipython2",
   "version": "2.7.3"
  }
 },
 "nbformat": 4,
 "nbformat_minor": 2
}
