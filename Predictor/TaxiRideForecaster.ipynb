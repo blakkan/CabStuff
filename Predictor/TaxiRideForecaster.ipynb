{
 "cells": [
  {
   "cell_type": "code",
   "execution_count": 6,
   "metadata": {
    "collapsed": true
   },
   "outputs": [],
   "source": [
    "from datetime import datetime\n",
    "from sklearn.externals import joblib\n",
    "from sklearn.feature_extraction import DictVectorizer\n",
    "from sklearn import linear_model\n",
    "\n"
   ]
  },
  {
   "cell_type": "code",
   "execution_count": 10,
   "metadata": {
    "collapsed": false
   },
   "outputs": [],
   "source": [
    "feature_idx = {\"pickup_zipcode\":0, \"pickup_year\":1, \"pickup_month\":2, \"pickup_day\":3, \"mean_temp\":4, \\\n",
    "             \"mean_wind_speed\":5, \"precipitation\":6 }"
   ]
  },
  {
   "cell_type": "code",
   "execution_count": 4,
   "metadata": {
    "collapsed": true
   },
   "outputs": [],
   "source": [
    "#Feature Extraction\n",
    "def get_feature_dict(x):\n",
    "    feature_dict = {}\n",
    "    # Get pickup date\n",
    "    pickup_date = datetime.strptime(\"%s-%s-%s\" % (x[feature_idx[\"pickup_year\"]],\\\n",
    "                                     x[feature_idx[\"pickup_month\"]],\\\n",
    "                                     x[feature_idx[\"pickup_day\"]]), '%Y-%m-%d')\n",
    "    \n",
    "    feature_dict[\"zipcode\"] = x[feature_idx[\"pickup_zipcode\"]]\n",
    "    feature_dict[\"month\"] = x[feature_idx[\"pickup_month\"]].zfill(2)\n",
    "    feature_dict[\"day\"] = x[feature_idx[\"pickup_day\"]].zfill(2)\n",
    "    feature_dict[\"weekday\"] = '%02d' % pickup_date.weekday()\n",
    "    \n",
    "    #mean temp\n",
    "    if float(x[feature_idx[\"mean_temp\"]]) < 55.:\n",
    "        feature_dict[\"temp\"] = \"Cold\"\n",
    "    elif float(x[feature_idx[\"mean_temp\"]]) > 75.:\n",
    "        feature_dict[\"temp\"] = \"Hot\"\n",
    "    else:\n",
    "        feature_dict[\"temp\"] = \"Normal\"\n",
    "        \n",
    "    #mean wind speed\n",
    "    feature_dict[\"wind_speed\"] = \"%0d\" % (float(x[feature_idx[\"mean_wind_speed\"]] or 12.))\n",
    "        \n",
    "    #mean wind speed\n",
    "    feature_dict[\"precip\"] = \"%00d\" % (float(x[feature_idx[\"precipitation\"]] or 10.))\n",
    "    \n",
    "    #zipcode-weekday\n",
    "    feature_dict[\"zipcode_weekday\"] = \"%s_%s\" % (feature_dict[\"zipcode\"], feature_dict[\"weekday\"])\n",
    "    \n",
    "    #zipcode-weekday-precip\n",
    "    feature_dict[\"zipcode_weekday_precip\"] = \"%s_%s_%s\" % (feature_dict[\"zipcode\"], feature_dict[\"weekday\"], feature_dict[\"precip\"])\n",
    "    \n",
    "    #zipcode-weekday-temp\n",
    "    feature_dict[\"zipcode_weekday_temp\"] = \"%s_%s_%s\" % (feature_dict[\"zipcode\"], feature_dict[\"weekday\"], feature_dict[\"temp\"])\n",
    "    \n",
    "    #zipcode-weekday-wind\n",
    "    feature_dict[\"zipcode_weekday_wind\"] = \"%s_%s_%s\" % (feature_dict[\"zipcode\"], feature_dict[\"weekday\"], feature_dict[\"wind_speed\"])\n",
    "    \n",
    "    #zipcode-weekday-wind-precip\n",
    "    feature_dict[\"zipcode_weekday_temp_precip\"] = \"%s_%s_%s_%s\" % (feature_dict[\"zipcode\"], feature_dict[\"weekday\"], feature_dict[\"temp\"], feature_dict[\"precip\"])\n",
    "    \n",
    "    #zipcode-weekday-wind-precip\n",
    "    feature_dict[\"zipcode_weekday_temp_precip_wind\"] = \"%s_%s_%s_%s_%s\" % (feature_dict[\"zipcode\"], feature_dict[\"weekday\"], feature_dict[\"temp\"], feature_dict[\"precip\"], feature_dict[\"wind_speed\"])\n",
    "    \n",
    "    return feature_dict\n",
    "\n",
    "#print get_feature_dict(y_rides_2015[1])"
   ]
  },
  {
   "cell_type": "code",
   "execution_count": 25,
   "metadata": {
    "collapsed": false
   },
   "outputs": [],
   "source": [
    "dat = ['10003', '2016', '12', '08', 45, 15, 12, 'Bronx', 'Bronx']\n",
    "dat_dict = get_feature_dict(dat)"
   ]
  },
  {
   "cell_type": "code",
   "execution_count": 12,
   "metadata": {
    "collapsed": true
   },
   "outputs": [],
   "source": [
    "y_forecaster = joblib.load('nyc_yellow_taxi_predictor.pkl') \n",
    "y_vectorizer = joblib.load('nyc_yellow_taxi_vectorizer.pkl')\n",
    "\n",
    "g_forecaster = joblib.load('nyc_green_taxi_predictor.pkl') \n",
    "g_vectorizer = joblib.load('nyc_green_taxi_vectorizer.pkl')"
   ]
  },
  {
   "cell_type": "code",
   "execution_count": 14,
   "metadata": {
    "collapsed": false
   },
   "outputs": [],
   "source": [
    "y_dat_vect = y_vectorizer.transform(dat_dict)\n",
    "g_dat_vect = g_vectorizer.transform(dat_dict)"
   ]
  },
  {
   "cell_type": "code",
   "execution_count": 21,
   "metadata": {
    "collapsed": true
   },
   "outputs": [],
   "source": [
    "y_hat = y_forecaster.predict(y_dat_vect)\n",
    "g_hat = g_forecaster.predict(g_dat_vect)"
   ]
  },
  {
   "cell_type": "code",
   "execution_count": 22,
   "metadata": {
    "collapsed": false
   },
   "outputs": [
    {
     "name": "stdout",
     "output_type": "stream",
     "text": [
      "[ 11159.48976695] [-91.52400871]\n"
     ]
    }
   ],
   "source": [
    "print y_hat, g_hat"
   ]
  }
 ],
 "metadata": {
  "kernelspec": {
   "display_name": "Python 2",
   "language": "python",
   "name": "python2"
  },
  "language_info": {
   "codemirror_mode": {
    "name": "ipython",
    "version": 2
   },
   "file_extension": ".py",
   "mimetype": "text/x-python",
   "name": "python",
   "nbconvert_exporter": "python",
   "pygments_lexer": "ipython2",
   "version": "2.7.3"
  }
 },
 "nbformat": 4,
 "nbformat_minor": 2
}
